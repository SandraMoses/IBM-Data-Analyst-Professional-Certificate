{
 "cells": [
  {
   "cell_type": "markdown",
   "metadata": {},
   "source": [
    "<p style=\"text-align:center\">\n",
    "    <a href=\"https://skills.network/?utm_medium=Exinfluencer&utm_source=Exinfluencer&utm_content=000026UJ&utm_term=10006555&utm_id=NA-SkillsNetwork-Channel-SkillsNetworkCoursesIBMDA0321ENSkillsNetwork928-2022-01-01\" target=\"_blank\">\n",
    "    <img src=\"https://cf-courses-data.s3.us.cloud-object-storage.appdomain.cloud/assets/logos/SN_web_lightmode.png\" width=\"200\" alt=\"Skills Network Logo\"  />\n",
    "    </a>\n",
    "</p>\n"
   ]
  },
  {
   "cell_type": "markdown",
   "metadata": {},
   "source": [
    "# **Web Scraping Lab**\n"
   ]
  },
  {
   "cell_type": "markdown",
   "metadata": {},
   "source": [
    "Estimated time needed: **30** minutes\n"
   ]
  },
  {
   "cell_type": "markdown",
   "metadata": {},
   "source": [
    "## Objectives\n"
   ]
  },
  {
   "cell_type": "markdown",
   "metadata": {},
   "source": [
    "After completing this lab you will be able to:\n"
   ]
  },
  {
   "cell_type": "markdown",
   "metadata": {},
   "source": [
    "* Download a webpage using requests module\n",
    "* Scrape all links from a web page\n",
    "* Scrape all image urls from a web page\n",
    "* Scrape data from html tables\n"
   ]
  },
  {
   "cell_type": "markdown",
   "metadata": {},
   "source": [
    "## Scrape www.ibm.com\n"
   ]
  },
  {
   "cell_type": "markdown",
   "metadata": {},
   "source": [
    "Import the required modules and functions\n"
   ]
  },
  {
   "cell_type": "code",
   "execution_count": 1,
   "metadata": {},
   "outputs": [],
   "source": [
    "from bs4 import BeautifulSoup # this module helps in web scrapping.\n",
    "import requests  # this module helps us to download a web page"
   ]
  },
  {
   "cell_type": "markdown",
   "metadata": {},
   "source": [
    "Download the contents of the web page\n"
   ]
  },
  {
   "cell_type": "code",
   "execution_count": 2,
   "metadata": {},
   "outputs": [],
   "source": [
    "url = \"http://www.ibm.com\""
   ]
  },
  {
   "cell_type": "code",
   "execution_count": 3,
   "metadata": {},
   "outputs": [],
   "source": [
    "# get the contents of the webpage in text format and store in a variable called data\n",
    "data  = requests.get(url).text "
   ]
  },
  {
   "cell_type": "markdown",
   "metadata": {},
   "source": [
    "Create a soup object using the class BeautifulSoup\n"
   ]
  },
  {
   "cell_type": "code",
   "execution_count": 5,
   "metadata": {},
   "outputs": [],
   "source": [
    "soup = BeautifulSoup(data,\"lxml\")  # create a soup object using the variable 'data'"
   ]
  },
  {
   "cell_type": "markdown",
   "metadata": {},
   "source": [
    "Scrape all links\n"
   ]
  },
  {
   "cell_type": "code",
   "execution_count": 6,
   "metadata": {},
   "outputs": [
    {
     "name": "stdout",
     "output_type": "stream",
     "text": [
      "https://www.ibm.com/de-de/sustainability?lnk=hpdels1\n",
      "//mediacenter.ibm.com/id/1_ohfv4i6v\n",
      "//mediacenter.ibm.com/id/1_ohfv4i6v\n",
      "#3171776\n",
      "#3171802\n",
      "#3171808\n",
      "#3171812\n",
      "#3171828\n",
      "#3171834\n",
      "https://de.newsroom.ibm.com/2023-04-24-IBM-stellt-neue-QRadar-Security-Suite-vor,-um-Bedrohungen-schneller-zu-erkennen-und-die-Reaktion-zu-beschleunigen?lnk=hpdeca1\n",
      "https://www.ibm.com/de-de/qradar?lnk=hpdeca2\n",
      "//mediacenter.ibm.com/id/1_xzci2wc9\n",
      "//mediacenter.ibm.com/id/1_xzci2wc9\n",
      "//mediacenter.ibm.com/id/1_xzci2wc9\n",
      "https://www.ibm.com/de-de/automation?lnk=hpdebl1\n",
      "//mediacenter.ibm.com/id/1_iqia5ojr\n",
      "//mediacenter.ibm.com/id/1_iqia5ojr\n",
      "//mediacenter.ibm.com/id/1_iqia5ojr\n",
      "https://www.ibm.com/de-de/cloud/campaign/cloud-simplicity?lnk=hpdebl2\n",
      "//mediacenter.ibm.com/id/1_4f1czavh\n",
      "//mediacenter.ibm.com/id/1_4f1czavh\n",
      "//mediacenter.ibm.com/id/1_4f1czavh\n",
      "https://www.ibm.com/sports/masters/?lnk=hpdebl3\n",
      "/de-de/about?lnk=hpdeov1\n",
      "#tab_3171780\n",
      "#tab_3171784\n",
      "#tab_3171788\n",
      "#tab_3171792\n",
      "#tab_3171796\n",
      "#tab_3171800\n",
      "https://www.ibm.com/consulting/de-de?lnk=hpdeco1\n",
      "https://www.ibm.com/de-de/consulting/strategy/?lnk=hpdeco2\n",
      "https://www.ibm.com/de-de/consulting/ibmix?lnk=hpdeco3\n",
      "https://www.ibm.com/de-de/consulting/technology?lnk=hpdeco4\n",
      "/de-de/services/operations-consulting?lnk=hpdeco5\n",
      "/strategic-partnerships?lnk=hpdeco6\n",
      "https://www.ibm.com/de-de/events/think/on-tour/frankfurt?lnk=hpdecs1\n",
      "https://www.ibm.com/careers/de-de/?lnk=hpdeii1\n",
      "https://www.ibm.com/careers/de-de/?lnk=hpdeii1\n",
      "https://research.ibm.com?lnk=hpdeii2\n",
      "https://research.ibm.com?lnk=hpdeii2\n",
      "https://www.ibm.com/impact?lnk=hpdeii3\n",
      "https://www.ibm.com/impact?lnk=hpdeii3\n",
      "https://www.ibm.com/thought-leadership/institute-business-value/en-us/report/quantum-safe-encryption?lnk=hpdeai1\n",
      "https://www.ibm.com/de-de/products/?lnk=fdi\n",
      "https://www.ibm.com/de-de/products?types[0]=trial&lnk=STW_DE_HPF_THP_FT_TL&lnk2=goto_THP\n",
      "https://www.ibm.com/de-de/products/offers-and-discounts?lnk=hmmpr\n",
      "https://www.ibm.com/de-de/services?lnk=fdi-dede\n",
      "https://www.ibm.com/de-de/industries\n",
      "https://www.ibm.com/case-studies/search?lnk=fdi-dede\n",
      "https://www.ibm.com/de-de/events?lnk=fdi-dede\n",
      "https://de.newsroom.ibm.com/think?lnk=fdi-dede\n",
      "https://www.ibm.com/de-de/financing\n",
      "https://developer.ibm.com/?lnk=fif-dede\n",
      "https://www.ibm.com/partnerplus/de/\n",
      "https://www.ibm.com/consulting/de-de/\n",
      "https://www.ibm.com/mysupport/s/?language=en_US\n",
      "https://www.ibm.com/partnerplus/de/\n",
      "https://myibm.ibm.com/dashboard/?lnk=mmi_dede\n",
      "https://www.ibm.com/about/innovation-studio?lnk=fcw-dede\n",
      "https://www.ibm.com/careers/de-de/?lnk=fab-dede\n",
      "https://de.newsroom.ibm.com/\n",
      "https://www.ibm.com/investor/?lnk=fab-dede\n",
      "https://www.ibm.com/de-de/about?lnk=fab-dede\n",
      "https://www.ibm.com/about/innovation-studio/munich?lnk=fab-dede\n",
      "https://www.ibm.com/about/innovation-studio/walldorf?lnk=fab-dede\n",
      "https://www.ibm.com/about/innovation-studio/zurich/?lnk=fab-dede\n",
      "https://www.ibm.com/downloads/cas/WE1KW18P\n",
      "https://www.ibm.com/de-de/about?lnk=flg-cont-dede\n",
      "https://www.ibm.com/de-de/privacy?lnk=flg-priv-dede\n",
      "https://www.ibm.com/de-de/legal?lnk=flg-tous-dede\n",
      "https://www.ibm.com/able/?lnk=flg-able-dede\n",
      "https://www.ibm.com/de-de/about?lnk=flg#3169168\n",
      "#\n"
     ]
    }
   ],
   "source": [
    "for link in soup.find_all('a'):  # in html anchor/link is represented by the tag <a>\n",
    "    print(link.get('href'))"
   ]
  },
  {
   "cell_type": "markdown",
   "metadata": {},
   "source": [
    "Scrape  all images\n"
   ]
  },
  {
   "cell_type": "code",
   "execution_count": 7,
   "metadata": {},
   "outputs": [
    {
     "name": "stdout",
     "output_type": "stream",
     "text": [
      "//1.cms.s81c.com/sites/default/files/2023-04-11/CS-The-Automate-Beer-Question-30_drupal_5E_mobile_lead_frame-13-22.jpg\n",
      "//1.cms.s81c.com/sites/default/files/2023-05-02/CS_The_Modernize_Banking_Question_V1_30_drupal_mobile_lead-00-06.jpg\n",
      "//1.cms.s81c.com/sites/default/files/2023-04-24/CS_the_transform_masters_question_30_mobile_frame00_drupal.jpg\n",
      "//1.cms.s81c.com/sites/default/files/2022-11-16/XLG%20-%20IBM%20Consulting%20-%20Overview.jpg\n",
      "//1.cms.s81c.com/sites/default/files/2022-11-16/XLG%20-%20IBM%20Consulting%20-%20Strategy.jpg\n",
      "//1.cms.s81c.com/sites/default/files/2022-11-16/XLG%20-%20IBM%20Consulting%20-%20Experience.jpg\n",
      "//1.cms.s81c.com/sites/default/files/2022-11-16/XLG%20-%20IBM%20Consulting%20-%20Technology.jpg\n",
      "//1.cms.s81c.com/sites/default/files/2022-11-16/XLG%20-%20IBM%20Consulting%20-%20Operations.jpg\n",
      "//1.cms.s81c.com/sites/default/files/2022-11-16/XLG%20-%20IBM%20Consulting%20-%20Partners.jpg\n",
      "//1.cms.s81c.com/sites/default/files/2022-11-16/XLG%20-%20Inside%20IBM%20-%20IBM%20Careers.jpg\n",
      "//1.cms.s81c.com/sites/default/files/2022-11-16/XLG%20-%20Inside%20IBM%20-%20Research%20Labs.jpg\n",
      "//1.cms.s81c.com/sites/default/files/2022-11-16/XLG%20-%20Inside%20IBM%20-%20Corporate%20Social%20Responsibility.jpg\n"
     ]
    }
   ],
   "source": [
    "for link in soup.find_all('img'):# in html image is represented by the tag <img>\n",
    "    print(link.get('src'))"
   ]
  },
  {
   "cell_type": "markdown",
   "metadata": {},
   "source": [
    "## Scrape data from html tables\n"
   ]
  },
  {
   "cell_type": "code",
   "execution_count": null,
   "metadata": {},
   "outputs": [],
   "source": [
    "#The below url contains a html table with data about colors and color codes."
   ]
  },
  {
   "cell_type": "code",
   "execution_count": 8,
   "metadata": {},
   "outputs": [],
   "source": [
    "url = \"https://cf-courses-data.s3.us.cloud-object-storage.appdomain.cloud/IBM-DA0321EN-SkillsNetwork/labs/datasets/HTMLColorCodes.html\""
   ]
  },
  {
   "cell_type": "markdown",
   "metadata": {},
   "source": [
    "Before proceeding to scrape a web site, you need to examine the contents, and the way data is organized on the website. Open the above url in your browser and check how many rows and columns are there in the color table.\n"
   ]
  },
  {
   "cell_type": "code",
   "execution_count": 9,
   "metadata": {},
   "outputs": [],
   "source": [
    "# get the contents of the webpage in text format and store in a variable called data\n",
    "data  = requests.get(url).text"
   ]
  },
  {
   "cell_type": "code",
   "execution_count": 11,
   "metadata": {},
   "outputs": [],
   "source": [
    "soup = BeautifulSoup(data,\"lxml\")"
   ]
  },
  {
   "cell_type": "code",
   "execution_count": 12,
   "metadata": {},
   "outputs": [],
   "source": [
    "#find a html table in the web page\n",
    "table = soup.find('table') # in html table is represented by the tag <table>"
   ]
  },
  {
   "cell_type": "code",
   "execution_count": 13,
   "metadata": {},
   "outputs": [
    {
     "name": "stdout",
     "output_type": "stream",
     "text": [
      "Color Name--->Hex Code#RRGGBB\n",
      "lightsalmon--->#FFA07A\n",
      "salmon--->#FA8072\n",
      "darksalmon--->#E9967A\n",
      "lightcoral--->#F08080\n",
      "coral--->#FF7F50\n",
      "tomato--->#FF6347\n",
      "orangered--->#FF4500\n",
      "gold--->#FFD700\n",
      "orange--->#FFA500\n",
      "darkorange--->#FF8C00\n",
      "lightyellow--->#FFFFE0\n",
      "lemonchiffon--->#FFFACD\n",
      "papayawhip--->#FFEFD5\n",
      "moccasin--->#FFE4B5\n",
      "peachpuff--->#FFDAB9\n",
      "palegoldenrod--->#EEE8AA\n",
      "khaki--->#F0E68C\n",
      "darkkhaki--->#BDB76B\n",
      "yellow--->#FFFF00\n",
      "lawngreen--->#7CFC00\n",
      "chartreuse--->#7FFF00\n",
      "limegreen--->#32CD32\n",
      "lime--->#00FF00\n",
      "forestgreen--->#228B22\n",
      "green--->#008000\n",
      "powderblue--->#B0E0E6\n",
      "lightblue--->#ADD8E6\n",
      "lightskyblue--->#87CEFA\n",
      "skyblue--->#87CEEB\n",
      "deepskyblue--->#00BFFF\n",
      "lightsteelblue--->#B0C4DE\n",
      "dodgerblue--->#1E90FF\n"
     ]
    }
   ],
   "source": [
    "#Get all rows from the table\n",
    "for row in table.find_all('tr'): # in html table row is represented by the tag <tr>\n",
    "    # Get all columns in each row.\n",
    "    cols = row.find_all('td') # in html a column is represented by the tag <td>\n",
    "    color_name = cols[2].getText() # store the value in column 3 as color_name\n",
    "    color_code = cols[3].getText() # store the value in column 4 as color_code\n",
    "    print(\"{}--->{}\".format(color_name,color_code))"
   ]
  },
  {
   "cell_type": "markdown",
   "metadata": {},
   "source": [
    "## Authors\n"
   ]
  },
  {
   "cell_type": "markdown",
   "metadata": {},
   "source": [
    "Ramesh Sannareddy\n"
   ]
  },
  {
   "cell_type": "markdown",
   "metadata": {},
   "source": [
    "### Other Contributors\n"
   ]
  },
  {
   "cell_type": "markdown",
   "metadata": {},
   "source": [
    "Rav Ahuja\n"
   ]
  },
  {
   "cell_type": "markdown",
   "metadata": {},
   "source": [
    "## Change Log\n"
   ]
  },
  {
   "cell_type": "markdown",
   "metadata": {},
   "source": [
    "|  Date (YYYY-MM-DD) |  Version | Changed By  |  Change Description |\n",
    "|---|---|---|---|\n",
    "| 2020-10-17  | 0.1  | Ramesh Sannareddy  |  Created initial version of the lab |\n"
   ]
  },
  {
   "cell_type": "markdown",
   "metadata": {},
   "source": [
    " Copyright &copy; 2020 IBM Corporation. This notebook and its source code are released under the terms of the [MIT License](https://cognitiveclass.ai/mit-license/?utm_medium=Exinfluencer&utm_source=Exinfluencer&utm_content=000026UJ&utm_term=10006555&utm_id=NA-SkillsNetwork-Channel-SkillsNetworkCoursesIBMDA0321ENSkillsNetwork928-2022-01-01).\n"
   ]
  }
 ],
 "metadata": {
  "kernelspec": {
   "display_name": "Python 3.10",
   "language": "python",
   "name": "python3"
  },
  "language_info": {
   "codemirror_mode": {
    "name": "ipython",
    "version": 3
   },
   "file_extension": ".py",
   "mimetype": "text/x-python",
   "name": "python",
   "nbconvert_exporter": "python",
   "pygments_lexer": "ipython3",
   "version": "3.10.9"
  }
 },
 "nbformat": 4,
 "nbformat_minor": 4
}
